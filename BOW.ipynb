{
  "nbformat": 4,
  "nbformat_minor": 0,
  "metadata": {
    "colab": {
      "name": "BOW.ipynb",
      "provenance": [],
      "authorship_tag": "ABX9TyNR18gG0PzSEbBmY411/F2b",
      "include_colab_link": true
    },
    "kernelspec": {
      "name": "python3",
      "display_name": "Python 3"
    },
    "language_info": {
      "name": "python"
    }
  },
  "cells": [
    {
      "cell_type": "markdown",
      "metadata": {
        "id": "view-in-github",
        "colab_type": "text"
      },
      "source": [
        "<a href=\"https://colab.research.google.com/github/joaoSouza2121/pln/blob/main/BOW.ipynb\" target=\"_parent\"><img src=\"https://colab.research.google.com/assets/colab-badge.svg\" alt=\"Open In Colab\"/></a>"
      ]
    },
    {
      "cell_type": "markdown",
      "metadata": {
        "id": "6VEU7eSMTxJK"
      },
      "source": [
        "##Machine Learning"
      ]
    },
    {
      "cell_type": "markdown",
      "metadata": {
        "id": "UlFv2QZ9T4XF"
      },
      "source": [
        "##<font color=\"blue\">Processamento de Linguagem Natural</font>"
      ]
    },
    {
      "cell_type": "markdown",
      "metadata": {
        "id": "PIqLCZY8UFoE"
      },
      "source": [
        "# Modelo de Classificação de Idiomas de Sentenças com Bag of Words e PyTorch"
      ]
    },
    {
      "cell_type": "code",
      "metadata": {
        "id": "hfo9gwvSSoaf"
      },
      "source": [
        "# Imports\n",
        "import numpy as np\n",
        "import pandas as pd\n",
        "import matplotlib.pyplot as plt\n",
        "import torch\n",
        "import torch.nn.functional as F\n",
        "from torch import nn, optim"
      ],
      "execution_count": 1,
      "outputs": []
    },
    {
      "cell_type": "markdown",
      "metadata": {
        "id": "p9zQKnOPUUAs"
      },
      "source": [
        "# Preparando os Dados"
      ]
    },
    {
      "cell_type": "code",
      "metadata": {
        "id": "Eq42bK2bUMgK"
      },
      "source": [
        "# Dados de treino\n",
        "dados_treino = [(\"Tenho vinte paginas de leitura\".lower().split(), \"Portuguese\"),\n",
        "                (\"I will visit the library\".lower().split(), \"English\"),\n",
        "                (\"I am reading a book\".lower().split(), \"English\"),\n",
        "                (\"This is my favourite chapter\".lower().split(), \"English\"),\n",
        "                (\"Estou na biblioteca lendo meu livro preferido\".lower().split(), \"Portuguese\"),\n",
        "                (\"Gosto de livros sobre viagens\".lower().split(), \"Portuguese\")]\n"
      ],
      "execution_count": 2,
      "outputs": []
    },
    {
      "cell_type": "code",
      "metadata": {
        "colab": {
          "base_uri": "https://localhost:8080/"
        },
        "id": "IvbIWwG8Ul7I",
        "outputId": "78ecb613-0ea1-4c59-cf71-c9d608ac3cf8"
      },
      "source": [
        "dados_treino"
      ],
      "execution_count": 3,
      "outputs": [
        {
          "output_type": "execute_result",
          "data": {
            "text/plain": [
              "[(['tenho', 'vinte', 'paginas', 'de', 'leitura'], 'Portuguese'),\n",
              " (['i', 'will', 'visit', 'the', 'library'], 'English'),\n",
              " (['i', 'am', 'reading', 'a', 'book'], 'English'),\n",
              " (['this', 'is', 'my', 'favourite', 'chapter'], 'English'),\n",
              " (['estou', 'na', 'biblioteca', 'lendo', 'meu', 'livro', 'preferido'],\n",
              "  'Portuguese'),\n",
              " (['gosto', 'de', 'livros', 'sobre', 'viagens'], 'Portuguese')]"
            ]
          },
          "metadata": {
            "tags": []
          },
          "execution_count": 3
        }
      ]
    },
    {
      "cell_type": "code",
      "metadata": {
        "id": "DGZwLTEGUoad"
      },
      "source": [
        "# Dados de teste\n",
        "dados_teste = [(\"Estou lendo\".lower().split(), \"Portuguese\"),\n",
        "               (\"This is not my favourite book\".lower().split(), \"English\")]\n"
      ],
      "execution_count": 4,
      "outputs": []
    },
    {
      "cell_type": "code",
      "metadata": {
        "id": "K61xNWW6VFuQ"
      },
      "source": [
        "# Prepara o dicionário do vocabulário\n",
        "\n",
        "# Dicionário para o vocabulário\n",
        "dict_vocab = {}\n",
        "\n",
        "# Contadoor\n",
        "i = 0\n",
        "\n",
        "# Loop pelos dados de treino e teste\n",
        "for palavras, idiomas in dados_treino + dados_teste:\n",
        "    for palavra in palavras:\n",
        "        if palavra not in dict_vocab:\n",
        "            dict_vocab[palavra] = i\n",
        "            i += 1"
      ],
      "execution_count": 5,
      "outputs": []
    },
    {
      "cell_type": "code",
      "metadata": {
        "colab": {
          "base_uri": "https://localhost:8080/"
        },
        "id": "7ErbW_fJVKxx",
        "outputId": "d3d305c6-230e-4bbc-dd11-e77004c117cc"
      },
      "source": [
        "# Visualiza o dicionario\n",
        "print(dict_vocab)"
      ],
      "execution_count": 6,
      "outputs": [
        {
          "output_type": "stream",
          "text": [
            "{'tenho': 0, 'vinte': 1, 'paginas': 2, 'de': 3, 'leitura': 4, 'i': 5, 'will': 6, 'visit': 7, 'the': 8, 'library': 9, 'am': 10, 'reading': 11, 'a': 12, 'book': 13, 'this': 14, 'is': 15, 'my': 16, 'favourite': 17, 'chapter': 18, 'estou': 19, 'na': 20, 'biblioteca': 21, 'lendo': 22, 'meu': 23, 'livro': 24, 'preferido': 25, 'gosto': 26, 'livros': 27, 'sobre': 28, 'viagens': 29, 'not': 30}\n"
          ],
          "name": "stdout"
        }
      ]
    },
    {
      "cell_type": "code",
      "metadata": {
        "id": "7su9mxz6VMG2"
      },
      "source": [
        "# tamanho do corpus\n",
        "tamanho_corpus = len(dict_vocab)"
      ],
      "execution_count": 7,
      "outputs": []
    },
    {
      "cell_type": "code",
      "metadata": {
        "colab": {
          "base_uri": "https://localhost:8080/"
        },
        "id": "GCGeln4XVWGC",
        "outputId": "55149f2f-0e89-454c-b092-b7163c3ec3bd"
      },
      "source": [
        "tamanho_corpus"
      ],
      "execution_count": 8,
      "outputs": [
        {
          "output_type": "execute_result",
          "data": {
            "text/plain": [
              "31"
            ]
          },
          "metadata": {
            "tags": []
          },
          "execution_count": 8
        }
      ]
    },
    {
      "cell_type": "code",
      "metadata": {
        "id": "moVfV8iCVT4I"
      },
      "source": [
        "# Numero de idiomas\n",
        "idiomas = 2"
      ],
      "execution_count": 9,
      "outputs": []
    },
    {
      "cell_type": "code",
      "metadata": {
        "id": "VTetNU1nVY3f"
      },
      "source": [
        "# indice para os idiomas\n",
        "label_index = {\"Portuguese\": 0, \"English\": 1}"
      ],
      "execution_count": 10,
      "outputs": []
    },
    {
      "cell_type": "markdown",
      "metadata": {
        "id": "MSmkvXNWWDjO"
      },
      "source": [
        "# Construção do Modelo"
      ]
    },
    {
      "cell_type": "code",
      "metadata": {
        "id": "ngngAEV3VqvO"
      },
      "source": [
        "# Classe para o modelo BOW de classificação\n",
        "class ModeloBOW(nn.Module):  \n",
        "\n",
        "    # Método construtor\n",
        "    def __init__(self, lista_idiomas, tamanho_do_corpus):\n",
        "        super(ModeloBOW, self).__init__()\n",
        "        self.linear = nn.Linear(tamanho_do_corpus, lista_idiomas)\n",
        "    # Feed Forward\n",
        "    def forward(self, bow_vec):\n",
        "        return F.log_softmax(self.linear(bow_vec), dim = 1)    "
      ],
      "execution_count": 16,
      "outputs": []
    },
    {
      "cell_type": "code",
      "metadata": {
        "id": "mBATr4EjWVNN"
      },
      "source": [
        "# Função para criar o vetor BOW necessário para o treinamento\n",
        "def cria_bow_vetor(sentence, word_index):\n",
        "    word_vec = torch.zeros(tamanho_corpus)\n",
        "    for word in sentence:\n",
        "        word_vec[dict_vocab[word]] += 1\n",
        "    return word_vec.view(1, -1)\n"
      ],
      "execution_count": 17,
      "outputs": []
    },
    {
      "cell_type": "code",
      "metadata": {
        "id": "1N3fPPUQWhTM"
      },
      "source": [
        "# Função para criar a variável target\n",
        "def cria_target(label, label_index):\n",
        "    return torch.LongTensor([label_index[label]])\n"
      ],
      "execution_count": 18,
      "outputs": []
    },
    {
      "cell_type": "code",
      "metadata": {
        "id": "futecQB3Wsvt"
      },
      "source": [
        "# Cria o Modelo\n",
        "modelo = ModeloBOW(idiomas, tamanho_corpus)"
      ],
      "execution_count": 19,
      "outputs": []
    },
    {
      "cell_type": "code",
      "metadata": {
        "id": "ntLgzyv5XNB2"
      },
      "source": [
        "# Função de perda (loss)\n",
        "loss_function = nn.NLLLoss()"
      ],
      "execution_count": 23,
      "outputs": []
    },
    {
      "cell_type": "code",
      "metadata": {
        "id": "zH5gKr0XXYIo"
      },
      "source": [
        "# Optmizer\n",
        "optimizer = optim.SGD(modelo.parameters(), lr= 0.1)"
      ],
      "execution_count": 21,
      "outputs": []
    },
    {
      "cell_type": "markdown",
      "metadata": {
        "id": "_jdKP4W2X0rx"
      },
      "source": [
        "# Treinamento do Modelo"
      ]
    },
    {
      "cell_type": "code",
      "metadata": {
        "colab": {
          "base_uri": "https://localhost:8080/"
        },
        "id": "E67G00ywXzXv",
        "outputId": "ca16ba68-d659-4773-9b5d-f249d00dda08"
      },
      "source": [
        "# Loop de treinamentoo\n",
        "for epoch in range(100):\n",
        "   \n",
        "    for sentence, label in dados_treino:\n",
        "\n",
        "        modelo.zero_grad()\n",
        "\n",
        "        bow_vec = cria_bow_vetor(sentence, dict_vocab)\n",
        "        target = cria_target(label, label_index)\n",
        "\n",
        "        log_probs = modelo(bow_vec)\n",
        "\n",
        "        loss = loss_function(log_probs, target)\n",
        "        loss.backward()\n",
        "        optimizer.step()\n",
        "       \n",
        "    if epoch % 10 == 0:\n",
        "        print('Epoch: ', str(epoch+1),', Loss: ' + str(loss.item()))\n"
      ],
      "execution_count": 24,
      "outputs": [
        {
          "output_type": "stream",
          "text": [
            "Epoch:  1 , Loss: 0.997012197971344\n",
            "Epoch:  11 , Loss: 0.09073120355606079\n",
            "Epoch:  21 , Loss: 0.0449775867164135\n",
            "Epoch:  31 , Loss: 0.02974196895956993\n",
            "Epoch:  41 , Loss: 0.02217905968427658\n",
            "Epoch:  51 , Loss: 0.01766929402947426\n",
            "Epoch:  61 , Loss: 0.014677757397294044\n",
            "Epoch:  71 , Loss: 0.012549597769975662\n",
            "Epoch:  81 , Loss: 0.010958606377243996\n",
            "Epoch:  91 , Loss: 0.009724742732942104\n"
          ],
          "name": "stdout"
        }
      ]
    },
    {
      "cell_type": "markdown",
      "metadata": {
        "id": "-5-cTfUMYYHW"
      },
      "source": [
        "# Previsões e Avalições do Modelo"
      ]
    },
    {
      "cell_type": "code",
      "metadata": {
        "id": "UHLlGVThYMlq"
      },
      "source": [
        "# Função para previsões\n",
        "def faz_previsao(data):\n",
        "\n",
        "    with torch.no_grad():\n",
        "        sentence = data[0]\n",
        "        label = data[1]\n",
        "        bow_vec = cria_bow_vetor(sentence, dict_vocab)\n",
        "        log_probs = modelo(bow_vec)\n",
        "        print(sentence)\n",
        "        print('Probabilidade de ser o label: ' + label, 'é igual a: ',  np.exp(log_probs))\n"
      ],
      "execution_count": 25,
      "outputs": []
    },
    {
      "cell_type": "code",
      "metadata": {
        "colab": {
          "base_uri": "https://localhost:8080/"
        },
        "id": "STztigrXYWGa",
        "outputId": "b32ccc24-e2b1-4e79-bce0-c555763e48e5"
      },
      "source": [
        "# Previsão com a primeira sentença de teste\n",
        "faz_previsao(dados_teste[0])"
      ],
      "execution_count": 26,
      "outputs": [
        {
          "output_type": "stream",
          "text": [
            "['estou', 'lendo']\n",
            "Probabilidade de ser o label: Portuguese é igual a:  tensor([[0.7967, 0.2033]])\n"
          ],
          "name": "stdout"
        }
      ]
    },
    {
      "cell_type": "code",
      "metadata": {
        "colab": {
          "base_uri": "https://localhost:8080/"
        },
        "id": "em6QZaQLYuiG",
        "outputId": "8926106c-794b-4c1e-e9b5-1d8b123605a6"
      },
      "source": [
        "dados_teste[0]"
      ],
      "execution_count": 27,
      "outputs": [
        {
          "output_type": "execute_result",
          "data": {
            "text/plain": [
              "(['estou', 'lendo'], 'Portuguese')"
            ]
          },
          "metadata": {
            "tags": []
          },
          "execution_count": 27
        }
      ]
    },
    {
      "cell_type": "code",
      "metadata": {
        "colab": {
          "base_uri": "https://localhost:8080/"
        },
        "id": "qMYwkRp2Y0LA",
        "outputId": "a43f6c25-c851-4eab-c96c-e65a4ba3067d"
      },
      "source": [
        "# Previsão da segunda sentença\n",
        "faz_previsao(dados_teste[1])"
      ],
      "execution_count": 28,
      "outputs": [
        {
          "output_type": "stream",
          "text": [
            "['this', 'is', 'not', 'my', 'favourite', 'book']\n",
            "Probabilidade de ser o label: English é igual a:  tensor([[0.0088, 0.9912]])\n"
          ],
          "name": "stdout"
        }
      ]
    },
    {
      "cell_type": "markdown",
      "metadata": {
        "id": "eDOkciz7ZLTx"
      },
      "source": [
        "##Previsões com Novas Frases"
      ]
    },
    {
      "cell_type": "code",
      "metadata": {
        "id": "PqtW5w4KY_v9"
      },
      "source": [
        "# Nova frase\n",
        "novas_frases = [(\"Tenho livros sobre viagens\".lower().split(), \"Portuguese\"),\n",
        "                (\"Estou escrevendo\".lower().split(), \"Portuguese\"),\n",
        "                (\"Gosto de biblioteca\".lower().split(), \"Portuguese\")]\n"
      ],
      "execution_count": 29,
      "outputs": []
    },
    {
      "cell_type": "code",
      "metadata": {
        "colab": {
          "base_uri": "https://localhost:8080/"
        },
        "id": "-jsU7SBaZYFP",
        "outputId": "77a83d2d-dd5d-4a84-af3c-9c37458d763b"
      },
      "source": [
        "novas_frases"
      ],
      "execution_count": 30,
      "outputs": [
        {
          "output_type": "execute_result",
          "data": {
            "text/plain": [
              "[(['tenho', 'livros', 'sobre', 'viagens'], 'Portuguese'),\n",
              " (['estou', 'escrevendo'], 'Portuguese'),\n",
              " (['gosto', 'de', 'biblioteca'], 'Portuguese')]"
            ]
          },
          "metadata": {
            "tags": []
          },
          "execution_count": 30
        }
      ]
    },
    {
      "cell_type": "code",
      "metadata": {
        "colab": {
          "base_uri": "https://localhost:8080/"
        },
        "id": "2Q71SgpyZZt7",
        "outputId": "130e668a-f3f6-400e-d086-5ab1310d54ea"
      },
      "source": [
        "faz_previsao(novas_frases[0])"
      ],
      "execution_count": 31,
      "outputs": [
        {
          "output_type": "stream",
          "text": [
            "['tenho', 'livros', 'sobre', 'viagens']\n",
            "Probabilidade de ser o label: Portuguese é igual a:  tensor([[0.9714, 0.0286]])\n"
          ],
          "name": "stdout"
        }
      ]
    },
    {
      "cell_type": "code",
      "metadata": {
        "colab": {
          "base_uri": "https://localhost:8080/"
        },
        "id": "1V3bUomGZn9m",
        "outputId": "062e6b88-58e0-4070-bcee-b8944027f6ab"
      },
      "source": [
        "faz_previsao(novas_frases[2])"
      ],
      "execution_count": 32,
      "outputs": [
        {
          "output_type": "stream",
          "text": [
            "['gosto', 'de', 'biblioteca']\n",
            "Probabilidade de ser o label: Portuguese é igual a:  tensor([[0.9582, 0.0418]])\n"
          ],
          "name": "stdout"
        }
      ]
    },
    {
      "cell_type": "code",
      "metadata": {
        "id": "UWLn5LYsZtir"
      },
      "source": [
        ""
      ],
      "execution_count": null,
      "outputs": []
    }
  ]
}