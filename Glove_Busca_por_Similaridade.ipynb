{
  "nbformat": 4,
  "nbformat_minor": 0,
  "metadata": {
    "colab": {
      "name": "Glove - Busca por Similaridade.ipynb",
      "provenance": [],
      "authorship_tag": "ABX9TyMx5C6m9rNrmzHo/KdaVM+C",
      "include_colab_link": true
    },
    "kernelspec": {
      "name": "python3",
      "display_name": "Python 3"
    },
    "language_info": {
      "name": "python"
    }
  },
  "cells": [
    {
      "cell_type": "markdown",
      "metadata": {
        "id": "view-in-github",
        "colab_type": "text"
      },
      "source": [
        "<a href=\"https://colab.research.google.com/github/joaoSouza2121/pln/blob/main/Glove_Busca_por_Similaridade.ipynb\" target=\"_parent\"><img src=\"https://colab.research.google.com/assets/colab-badge.svg\" alt=\"Open In Colab\"/></a>"
      ]
    },
    {
      "cell_type": "markdown",
      "metadata": {
        "id": "SwpcW6Uua1w1"
      },
      "source": [
        "##Machine Learning"
      ]
    },
    {
      "cell_type": "markdown",
      "metadata": {
        "id": "sbz4XfHVa6Vg"
      },
      "source": [
        "##<font color=\"orange\">Processamento de Linguagem Natural</font>"
      ]
    },
    {
      "cell_type": "markdown",
      "metadata": {
        "id": "3uxQqhLfbG3I"
      },
      "source": [
        "# Buscador de Palavras em Texto por Similaridade"
      ]
    },
    {
      "cell_type": "markdown",
      "metadata": {
        "id": "xsr5tiuRb6JE"
      },
      "source": [
        "# Explicação:\n",
        "Modelo GloVe\n",
        "O GloVe é uma técnica de vetor de palavras (embeddings). Os vetores de palavras\n",
        "colocam as palavras em um espaço vetorial, onde palavras semelhantes se agrupam e palavras\n",
        "diferentes se repelem. A vantagem do GloVe é que, diferentemente do Word2vec, o GloVe não\n",
        "depende apenas de estatísticas locais (informações de contexto local das palavras), mas\n",
        "incorpora estatísticas globais (co-ocorrência de palavras) para obter vetores de palavras. Mas\n",
        "há bastante sinergia entre o GloVe e o Word2vec.\n",
        "E não se surpreenda ao saber que a ideia de usar estatísticas globais para derivar\n",
        "relacionamentos semânticos entre palavras remonta a um longo caminho. GloVe significa\n",
        "\"Global Vectors” ou “Vetores Globais\". E, como mencionado anteriormente, o GloVe captura\n",
        "estatísticas globais e estatísticas locais de um corpus, a fim de criar vetores de palavras. Mas\n",
        "precisamos de estatísticas globais e locais?\n",
        "Acontece que cada tipo de estatística tem sua própria vantagem. Por exemplo, o\n",
        "Word2vec, que captura estatísticas locais, se sai muito bem em tarefas de analogia. No entanto,\n",
        "um método como o LSA (Latent Semantic Analysis), que usa apenas estatísticas globais, não\n",
        "funciona bem em tarefas de analogia."
      ]
    },
    {
      "cell_type": "code",
      "metadata": {
        "colab": {
          "base_uri": "https://localhost:8080/"
        },
        "id": "XDmL-DOTalh9",
        "outputId": "f3f95850-8f18-44f8-ed3f-0097e7be6caa"
      },
      "source": [
        "# Imports\n",
        "import torch\n",
        "import numpy as np\n",
        "import torch.nn as nn\n",
        "import torch.optim as optim\n",
        "import matplotlib\n",
        "import matplotlib.pyplot as plt\n",
        "from tqdm import tqdm\n",
        "from torch.autograd import Variable\n",
        "from nltk.tokenize import word_tokenize\n",
        "%matplotlib inline\n",
        "torch.manual_seed(1)"
      ],
      "execution_count": 1,
      "outputs": [
        {
          "output_type": "execute_result",
          "data": {
            "text/plain": [
              "<torch._C.Generator at 0x7f4491ee8910>"
            ]
          },
          "metadata": {
            "tags": []
          },
          "execution_count": 1
        }
      ]
    },
    {
      "cell_type": "code",
      "metadata": {
        "colab": {
          "base_uri": "https://localhost:8080/"
        },
        "id": "PmP-wMJXcgJA",
        "outputId": "0fa3ad9b-41c7-414f-f0ba-62f536acabcf"
      },
      "source": [
        "import nltk\n",
        "nltk.download('punkt')"
      ],
      "execution_count": 3,
      "outputs": [
        {
          "output_type": "stream",
          "text": [
            "[nltk_data] Downloading package punkt to /root/nltk_data...\n",
            "[nltk_data]   Unzipping tokenizers/punkt.zip.\n"
          ],
          "name": "stdout"
        },
        {
          "output_type": "execute_result",
          "data": {
            "text/plain": [
              "True"
            ]
          },
          "metadata": {
            "tags": []
          },
          "execution_count": 3
        }
      ]
    },
    {
      "cell_type": "markdown",
      "metadata": {
        "id": "2G9NVHeVdBU3"
      },
      "source": [
        "##Carregando e Processando os Dados\n",
        "Para este estudo de caso, usaremos o famoso texto de Isaac Asimov: The Last Question.\n",
        "\n",
        "http://users.ece.cmu.edu/~gamvrosi/thelastq.html\n",
        "\n",
        "Traduzimos o texto e usaremos para treinar o modelo GloVe e depois buscar palavras por similaridade. Recomendados a leitura do arquivo asimov.txt (usado na célula abaixo) antes de executar o restante do Jupyter Notebook."
      ]
    },
    {
      "cell_type": "code",
      "metadata": {
        "id": "o-PlnFFPcsCB"
      },
      "source": [
        "# Abre o arquivo para leitura e carrega na variável arquivo_texto\n",
        "arquivo_texto = open('dados/asimov.txt', 'r')"
      ],
      "execution_count": 4,
      "outputs": []
    },
    {
      "cell_type": "code",
      "metadata": {
        "id": "JCEN_i0DdpB5"
      },
      "source": [
        "# Converte as palavars para minúsculo\n",
        "texto = arquivo_texto.read().lower()\n"
      ],
      "execution_count": 5,
      "outputs": []
    },
    {
      "cell_type": "code",
      "metadata": {
        "id": "yvvD5PE2dtNR"
      },
      "source": [
        "# Fecha o arquivo\n",
        "arquivo_texto.close()"
      ],
      "execution_count": 6,
      "outputs": []
    },
    {
      "cell_type": "code",
      "metadata": {
        "id": "yzONpkS2dvaJ"
      },
      "source": [
        "# Tokenização do texto\n",
        "texto_token = word_tokenize(texto)\n"
      ],
      "execution_count": 7,
      "outputs": []
    },
    {
      "cell_type": "code",
      "metadata": {
        "id": "nSRoSNUrd-Za"
      },
      "source": [
        "# Variável para o comprimento total dos tokens\n",
        "comp_tokens = len(texto_token)\n"
      ],
      "execution_count": 8,
      "outputs": []
    },
    {
      "cell_type": "code",
      "metadata": {
        "colab": {
          "base_uri": "https://localhost:8080/"
        },
        "id": "9ZAc3bn1eCDh",
        "outputId": "7c066c22-5afa-4f79-f984-d5f9972a1e6f"
      },
      "source": [
        "print(\"Número de Tokens: \", comp_tokens)\n"
      ],
      "execution_count": 9,
      "outputs": [
        {
          "output_type": "stream",
          "text": [
            "Número de Tokens:  5280\n"
          ],
          "name": "stdout"
        }
      ]
    },
    {
      "cell_type": "markdown",
      "metadata": {
        "id": "clJMo8v8eKu0"
      },
      "source": [
        "# Criando o Vocabulário"
      ]
    },
    {
      "cell_type": "code",
      "metadata": {
        "colab": {
          "base_uri": "https://localhost:8080/"
        },
        "id": "zffr7kTqeIpO",
        "outputId": "f706edec-9ab1-43a2-d69b-916959d0b6da"
      },
      "source": [
        "# Criando o vocabulário\n",
        "vocab = set(texto_token)\n",
        "vocab_size = len(vocab)\n",
        "print(\"Tamanho do Vocabulário:\", vocab_size)\n"
      ],
      "execution_count": 10,
      "outputs": [
        {
          "output_type": "stream",
          "text": [
            "Tamanho do Vocabulário: 1397\n"
          ],
          "name": "stdout"
        }
      ]
    },
    {
      "cell_type": "code",
      "metadata": {
        "id": "6dNlzsn0epgR"
      },
      "source": [
        "# Dicionário para mapear as palavras aos índices\n",
        "palavra_indice = {palavra: i for i, palavra in enumerate(vocab)}\n",
        "palavra_indice\n"
      ],
      "execution_count": null,
      "outputs": []
    },
    {
      "cell_type": "code",
      "metadata": {
        "id": "SS_mnb-RetqB"
      },
      "source": [
        "# Dicionário para mapear os índices às palavras\n",
        "indice_palavra = {i: palavra for i, palavra in enumerate(vocab)}\n",
        "indice_palavra"
      ],
      "execution_count": null,
      "outputs": []
    },
    {
      "cell_type": "markdown",
      "metadata": {
        "id": "oBCjKUkTe6Tg"
      },
      "source": [
        "Salvo indicação contrário, usamos um contexto de dez palavras à esquerda e dez palavras à direita."
      ]
    },
    {
      "cell_type": "code",
      "metadata": {
        "id": "FS_1Bojzeyf_"
      },
      "source": [
        "# Tamanho do contexto\n",
        "CONTEXT_SIZE = 10"
      ],
      "execution_count": 16,
      "outputs": []
    },
    {
      "cell_type": "code",
      "metadata": {
        "colab": {
          "base_uri": "https://localhost:8080/"
        },
        "id": "8vfNFaP6fTUR",
        "outputId": "6e50320b-7a5a-4c0d-de6f-82f1329f9065"
      },
      "source": [
        "# Matriz de co-ocorrência preenchida com zeros\n",
        "co_occ_mat = np.zeros((vocab_size, vocab_size))\n",
        "co_occ_mat\n"
      ],
      "execution_count": 14,
      "outputs": [
        {
          "output_type": "execute_result",
          "data": {
            "text/plain": [
              "array([[0., 0., 0., ..., 0., 0., 0.],\n",
              "       [0., 0., 0., ..., 0., 0., 0.],\n",
              "       [0., 0., 0., ..., 0., 0., 0.],\n",
              "       ...,\n",
              "       [0., 0., 0., ..., 0., 0., 0.],\n",
              "       [0., 0., 0., ..., 0., 0., 0.],\n",
              "       [0., 0., 0., ..., 0., 0., 0.]])"
            ]
          },
          "metadata": {
            "tags": []
          },
          "execution_count": 14
        }
      ]
    },
    {
      "cell_type": "markdown",
      "metadata": {
        "id": "blaUioDXfihN"
      },
      "source": [
        "Agora percorremos os dicionários de mapeamentos criados anteriormente e preenchemos a matriz de co-ocorrencia."
      ]
    },
    {
      "cell_type": "code",
      "metadata": {
        "id": "0-fxEeofffd9"
      },
      "source": [
        "# Loop externo por todo comprimento do vocabulário\n",
        "for i in range(comp_tokens):\n",
        "   \n",
        "    # Loop interno pelo tamanho do contexto\n",
        "    for dist in range(1, CONTEXT_SIZE + 1):\n",
        "       \n",
        "        # Obtém o índice do token\n",
        "        ix = palavra_indice[texto_token[i]]\n",
        "       \n",
        "        # Se a palara estiver à esquerda, inserimos à esquerda na matriz de co-ocorrência\n",
        "        if i - dist > 0:\n",
        "            left_ix = palavra_indice[texto_token[i - dist]]\n",
        "            co_occ_mat[ix, left_ix] += 1.0 / dist\n",
        "           \n",
        "        # Se a palara estiver à direita, inserimos à direita na matriz de co-ocorrência\n",
        "        if i + dist < len(texto_token):\n",
        "            right_ix = palavra_indice[texto_token[i + dist]]\n",
        "            co_occ_mat[ix, right_ix] += 1.0 / dist\n"
      ],
      "execution_count": 17,
      "outputs": []
    },
    {
      "cell_type": "code",
      "metadata": {
        "id": "7YlLwzvsgAag"
      },
      "source": [
        "# Transposta da matriz de co-ocorrências\n",
        "# Retorna um array 2-D com uma linha para cada elemento não-zero\n",
        "co_occs = np.transpose(np.nonzero(co_occ_mat))"
      ],
      "execution_count": 18,
      "outputs": []
    },
    {
      "cell_type": "code",
      "metadata": {
        "colab": {
          "base_uri": "https://localhost:8080/"
        },
        "id": "hVTV6LvvgUyu",
        "outputId": "78330dd2-3b7f-4410-8d25-bcb97fc4de00"
      },
      "source": [
        "# Print\n",
        "print(\"Shape da Matriz de Co-Ocorrência:\", co_occ_mat.shape)\n"
      ],
      "execution_count": 19,
      "outputs": [
        {
          "output_type": "stream",
          "text": [
            "Shape da Matriz de Co-Ocorrência: (1397, 1397)\n"
          ],
          "name": "stdout"
        }
      ]
    },
    {
      "cell_type": "code",
      "metadata": {
        "colab": {
          "base_uri": "https://localhost:8080/"
        },
        "id": "oVB9HGtUgYt-",
        "outputId": "ec3e437d-0ae0-41a0-a3cc-26bb9111fe61"
      },
      "source": [
        "# Print\n",
        "print(\"Matriz de Co-Ocorrência Não-Zero:\\n\", co_occs)\n"
      ],
      "execution_count": 20,
      "outputs": [
        {
          "output_type": "stream",
          "text": [
            "Matriz de Co-Ocorrência Não-Zero:\n",
            " [[   0    9]\n",
            " [   0   45]\n",
            " [   0  217]\n",
            " ...\n",
            " [1396 1352]\n",
            " [1396 1361]\n",
            " [1396 1396]]\n"
          ],
          "name": "stdout"
        }
      ]
    },
    {
      "cell_type": "markdown",
      "metadata": {
        "id": "PgI6syDeghgF"
      },
      "source": [
        "# Criando o Modelo"
      ]
    },
    {
      "cell_type": "code",
      "metadata": {
        "id": "wtr-UdsKgdek"
      },
      "source": [
        "# Tamanho da embedding\n",
        "EMBEDDING_SIZE = 50"
      ],
      "execution_count": 21,
      "outputs": []
    },
    {
      "cell_type": "code",
      "metadata": {
        "id": "92SStBeegzue"
      },
      "source": [
        "# Hiperparâmetros\n",
        "X_MAX = 100\n",
        "ALPHA = 0.75\n",
        "BATCH_SIZE = 32\n",
        "LEARNING_RATE = 0.05\n",
        "EPOCHS = 200\n"
      ],
      "execution_count": 22,
      "outputs": []
    },
    {
      "cell_type": "code",
      "metadata": {
        "id": "Z40XJFveg3XP"
      },
      "source": [
        "# Classe para o modelo\n",
        "class Glove(nn.Module):\n",
        "\n",
        "    # Método construtor\n",
        "    def __init__(self, vocab_size, comat, embedding_size, x_max, alpha):\n",
        "        super(Glove, self).__init__()\n",
        "       \n",
        "        # Matriz de embeddings com as palavras centrais\n",
        "        self.embedding_V = nn.Embedding(vocab_size, embedding_size)\n",
        "       \n",
        "        # Matriz de embeddings com as palavras de contexto\n",
        "        self.embedding_U = nn.Embedding(vocab_size, embedding_size)\n",
        "\n",
        "        # Bias\n",
        "        self.v_bias = nn.Embedding(vocab_size, 1)\n",
        "        self.u_bias = nn.Embedding(vocab_size, 1)\n",
        "       \n",
        "        # Inicializa os parâmtetros (pesos que a rede aprende durante o treinamento)\n",
        "        for params in self.parameters():\n",
        "            nn.init.uniform_(params, a = -0.5, b = 0.5)\n",
        "           \n",
        "        # Define os hiperparâmetros (que controlam o treinamento)\n",
        "        self.x_max = x_max\n",
        "        self.alpha = alpha\n",
        "        self.comat = comat\n",
        "   \n",
        "    # Função de forward\n",
        "    def forward(self, center_word_lookup, context_word_lookup):\n",
        "       \n",
        "        # Matrizes embedding de pesos para centro e contexto\n",
        "        center_embed = self.embedding_V(center_word_lookup)\n",
        "        target_embed = self.embedding_U(context_word_lookup)\n",
        "\n",
        "        # Matrizes embedding de bias para centro e contexto\n",
        "        center_bias = self.v_bias(center_word_lookup).squeeze(1)\n",
        "        target_bias = self.u_bias(context_word_lookup).squeeze(1)\n",
        "\n",
        "        # Elementos da matriz de co-ocorrência\n",
        "        co_occurrences = torch.tensor([self.comat[center_word_lookup[i].item(), context_word_lookup[i].item()]\n",
        "                                       for i in range(BATCH_SIZE)])\n",
        "       \n",
        "        # Carrega os pesos\n",
        "        weights = torch.tensor([self.weight_fn(var) for var in co_occurrences])\n",
        "\n",
        "        # Funçã de perda\n",
        "        loss = torch.sum(torch.pow((torch.sum(center_embed * target_embed, dim = 1)\n",
        "            + center_bias + target_bias) - torch.log(co_occurrences), 2) * weights)\n",
        "       \n",
        "        return loss\n",
        "       \n",
        "    # Definição do peso\n",
        "    def weight_fn(self, x):\n",
        "        if x < self.x_max:\n",
        "            return (x / self.x_max) ** self.alpha\n",
        "        return 1\n",
        "       \n",
        "    # Soma de V e U como nossos vetores de palavras\n",
        "    def embeddings(self):\n",
        "        return self.embedding_V.weight.data + self.embedding_U.weight.data\n"
      ],
      "execution_count": 23,
      "outputs": []
    },
    {
      "cell_type": "code",
      "metadata": {
        "id": "x0JQvRldg9Ed"
      },
      "source": [
        "# Função para gerar um bacth de palavras\n",
        "def gera_batch(model, batch_size = BATCH_SIZE):\n",
        "   \n",
        "    # Extrai uma amostra\n",
        "    sample = np.random.choice(np.arange(len(co_occs)), size = batch_size, replace = False)\n",
        "   \n",
        "    # Listas de vetores\n",
        "    v_vecs_ix, u_vecs_ix = [], []\n",
        "   \n",
        "    # Loop pela amostra para gerar os vetores\n",
        "    for chosen in sample:\n",
        "        ind = tuple(co_occs[chosen])  \n",
        "       \n",
        "        lookup_ix_v = ind[0]\n",
        "        lookup_ix_u = ind[1]\n",
        "       \n",
        "        v_vecs_ix.append(lookup_ix_v)\n",
        "        u_vecs_ix.append(lookup_ix_u)\n",
        "       \n",
        "    return torch.tensor(v_vecs_ix), torch.tensor(u_vecs_ix)\n"
      ],
      "execution_count": 24,
      "outputs": []
    },
    {
      "cell_type": "markdown",
      "metadata": {
        "id": "Qat36X8chjE-"
      },
      "source": [
        "# Treinamento do Modelo"
      ]
    },
    {
      "cell_type": "code",
      "metadata": {
        "id": "EilYmwsuhgg1"
      },
      "source": [
        "# Função para o treinamento\n",
        "def treina_glove(comat):\n",
        "   \n",
        "    # Lista para os erros\n",
        "    losses = []\n",
        "   \n",
        "    # Cria o modelo Glove\n",
        "    model = Glove(vocab_size, comat, embedding_size = EMBEDDING_SIZE, x_max = X_MAX, alpha = ALPHA)\n",
        "   \n",
        "    # Otimizador\n",
        "    optimizer = optim.Adagrad(model.parameters(), lr = LEARNING_RATE)\n",
        "   \n",
        "    # Loop pelo número de épocas\n",
        "    for epoch in range(EPOCHS):\n",
        "       \n",
        "        # Erro total\n",
        "        total_loss = 0\n",
        "       \n",
        "        # Número de bacthes\n",
        "        num_batches = int(len(texto_token) / BATCH_SIZE)\n",
        "       \n",
        "        # Loop pelos batches\n",
        "        for batch in tqdm(range(num_batches)):\n",
        "           \n",
        "            # Zera os gradientes do modelo\n",
        "            model.zero_grad()\n",
        "           \n",
        "            # Obtém o bacth de dados\n",
        "            data = gera_batch(model, BATCH_SIZE)\n",
        "           \n",
        "            # Calcula o erro\n",
        "            loss = model(*data)\n",
        "           \n",
        "            # Executa o backpropagation\n",
        "            loss.backward()\n",
        "           \n",
        "            # Otimiza os pesos (aqui é onde ocorre o aprendizado)\n",
        "            optimizer.step()\n",
        "           \n",
        "            # Erro total para a epoch\n",
        "            total_loss += loss.item()\n",
        "           \n",
        "        # Erros do modelo\n",
        "        losses.append(total_loss)\n",
        "       \n",
        "        # Print da epoch e erro médio do modelo\n",
        "        print('Epoch : %d, Erro Médio : %.02f' % (epoch, np.mean(losses)))\n",
        "       \n",
        "    return model, losses \n"
      ],
      "execution_count": 25,
      "outputs": []
    },
    {
      "cell_type": "code",
      "metadata": {
        "id": "_Oe74UGJhn31"
      },
      "source": [
        "# Executa a função de treinamento e retorna o modelo e os erros\n",
        "model, losses = treina_glove(co_occ_mat)\n"
      ],
      "execution_count": null,
      "outputs": []
    },
    {
      "cell_type": "code",
      "metadata": {
        "id": "heo-NcD5iAmw"
      },
      "source": [
        "# Função para o plot do erro durante o treinamento\n",
        "def plot_loss(losses, title):\n",
        "    plt.plot(range(len(losses)), losses)\n",
        "    plt.xlabel('Epoch')\n",
        "    plt.ylabel('Erro')\n",
        "    plt.title(title)\n",
        "    plt.figure()\n"
      ],
      "execution_count": 27,
      "outputs": []
    },
    {
      "cell_type": "code",
      "metadata": {
        "colab": {
          "base_uri": "https://localhost:8080/",
          "height": 312
        },
        "id": "b_DTkvEXiy0H",
        "outputId": "b72202c5-39e2-4368-b742-9ef36a1ce15b"
      },
      "source": [
        " #Plot\n",
        "plot_loss(losses, \"Erro de Treinamento do Modelo GloVe\")\n"
      ],
      "execution_count": 29,
      "outputs": [
        {
          "output_type": "display_data",
          "data": {
            "image/png": "[encoded data removed]",
            "text/plain": [
              "<Figure size 432x288 with 1 Axes>"
            ]
          },
          "metadata": {
            "tags": [],
            "needs_background": "light"
          }
        },
        {
          "output_type": "display_data",
          "data": {
            "text/plain": [
              "<Figure size 432x288 with 0 Axes>"
            ]
          },
          "metadata": {
            "tags": []
          }
        }
      ]
    },
    {
      "cell_type": "markdown",
      "metadata": {
        "id": "pFiM-9ovi7tW"
      },
      "source": [
        "# Testando o Modelo: Similaridade de Palavras, analogias de palavras"
      ]
    },
    {
      "cell_type": "code",
      "metadata": {
        "id": "CRYNgKizi0UL"
      },
      "source": [
        "# Função que retorna a embedding de uma palavra\n",
        "def get_palavra(palavra, modelo, word_to_ix):\n",
        "    return model.embeddings()[word_to_ix[palavra]]\n"
      ],
      "execution_count": 30,
      "outputs": []
    },
    {
      "cell_type": "code",
      "metadata": {
        "id": "2k6VidhjjYGb"
      },
      "source": [
        "# Função para busca a palavra mais próxima\n",
        "def busca_palavra_similaridade(vec, word_to_ix, n = 10):\n",
        "    all_dists = [(w, torch.dist(vec, get_palavra(w, model, palavra_indice))) for w in palavra_indice]\n",
        "    return sorted(all_dists, key = lambda t: t[1])[:n]\n"
      ],
      "execution_count": 31,
      "outputs": []
    },
    {
      "cell_type": "code",
      "metadata": {
        "colab": {
          "base_uri": "https://localhost:8080/"
        },
        "id": "nz1zAouYjjej",
        "outputId": "44bb9e3b-a34b-4973-9dc2-8ebbee05a6e9"
      },
      "source": [
        "# Gerando o vetor (embedding) de uma palavra\n",
        "vector = get_palavra(\"espaço\", model, palavra_indice)\n",
        "print(vector)\n"
      ],
      "execution_count": 32,
      "outputs": [
        {
          "output_type": "stream",
          "text": [
            "tensor([ 0.0338,  0.0572, -0.2651, -0.0679, -0.0976, -0.0937, -0.3609,  0.1183,\n",
            "         0.4219,  0.1641,  0.6276,  0.5438,  0.1203, -0.5673, -0.6537,  0.5765,\n",
            "        -0.3577,  0.0538, -0.2022, -1.0117,  0.2263,  0.5679, -0.4865,  0.6525,\n",
            "         0.0322, -0.4019,  0.6047, -0.6956, -0.3045, -0.4991, -0.2562,  0.0011,\n",
            "         0.0481,  0.1110,  0.8083, -0.1469, -0.2711, -0.3911, -0.8739,  0.9562,\n",
            "        -0.2607, -0.1935,  0.1569, -0.5518,  0.0555,  0.0216, -0.2354,  0.1889,\n",
            "         0.6528, -0.2485])\n"
          ],
          "name": "stdout"
        }
      ]
    },
    {
      "cell_type": "code",
      "metadata": {
        "colab": {
          "base_uri": "https://localhost:8080/"
        },
        "id": "fymX30XBjnWX",
        "outputId": "75cb16dd-3b0f-4656-85a2-e20783788e52"
      },
      "source": [
        "# Busca as palavras similares à palavra \"espaço\"\n",
        "busca_palavra_similaridade(vector, palavra_indice)\n"
      ],
      "execution_count": 33,
      "outputs": [
        {
          "output_type": "execute_result",
          "data": {
            "text/plain": [
              "[('espaço', tensor(0.)),\n",
              " ('pouco', tensor(3.2115)),\n",
              " ('no', tensor(3.2283)),\n",
              " ('sim', tensor(3.3201)),\n",
              " ('antigo', tensor(3.4414)),\n",
              " ('planeta', tensor(3.4560)),\n",
              " ('descansando', tensor(3.4854)),\n",
              " ('seu', tensor(3.4933)),\n",
              " ('diâmetro', tensor(3.5244)),\n",
              " ('sucessor', tensor(3.5382))]"
            ]
          },
          "metadata": {
            "tags": []
          },
          "execution_count": 33
        }
      ]
    },
    {
      "cell_type": "markdown",
      "metadata": {
        "id": "IK4nwKYRkOQT"
      },
      "source": [
        "Observe que a palavra \"espaço\" tem 0 de distância para si mesma. A próxima palavra mais parecida com \"espaço\" é \"universo\" e assim por diante. Quanto menor a distância, mais parecida a palavra. Lembrando que a busca por similaridade é feita com as embeddings treinadas com o modelo GloVe.\n",
        "\n",
        "Mais um exemplo:"
      ]
    },
    {
      "cell_type": "code",
      "metadata": {
        "colab": {
          "base_uri": "https://localhost:8080/"
        },
        "id": "qMPH5T53kFm8",
        "outputId": "4b229a68-591c-4c40-c4ed-9ade8e89308f"
      },
      "source": [
        "# Gerando o vetor (embedding) de uma palavra\n",
        "vector = get_palavra(\"solar\", model, palavra_indice)\n",
        "print(vector)\n"
      ],
      "execution_count": 34,
      "outputs": [
        {
          "output_type": "stream",
          "text": [
            "tensor([-0.8191,  0.4353,  0.2192,  0.6608,  0.6377, -0.4522, -0.4777,  0.0593,\n",
            "        -0.4341, -0.7913,  0.3298,  0.0751, -0.4017,  0.3436, -0.5646,  0.1447,\n",
            "        -0.3674,  0.5787,  0.5693, -0.0170, -0.1102,  0.3164, -0.2024,  0.1927,\n",
            "         0.2130, -1.2175, -0.4340, -0.3242, -0.3150, -0.5407, -0.6829, -0.1803,\n",
            "         0.1688, -0.3890,  0.5417,  0.2501, -0.4036,  0.4572, -0.1157, -0.5564,\n",
            "        -0.0463,  0.0216, -0.1276, -0.1593,  0.3248,  1.0802, -0.1734, -0.2868,\n",
            "        -0.3379, -0.8608])\n"
          ],
          "name": "stdout"
        }
      ]
    },
    {
      "cell_type": "code",
      "metadata": {
        "colab": {
          "base_uri": "https://localhost:8080/"
        },
        "id": "l3-d8yZpkWcX",
        "outputId": "8532075a-c13b-4dac-b106-5ee21f973b6c"
      },
      "source": [
        "# Busca as palavras similares à palavra \"solar\"\n",
        "busca_palavra_similaridade(vector, palavra_indice)\n"
      ],
      "execution_count": 35,
      "outputs": [
        {
          "output_type": "execute_result",
          "data": {
            "text/plain": [
              "[('solar', tensor(0.)),\n",
              " ('energia', tensor(3.0961)),\n",
              " ('prime', tensor(3.2037)),\n",
              " ('ajudar.', tensor(3.5373)),\n",
              " ('por', tensor(3.5435)),\n",
              " ('zee', tensor(3.5688)),\n",
              " ('unidades', tensor(3.5804)),\n",
              " ('imortalidade', tensor(3.5945)),\n",
              " ('proporção', tensor(3.6086)),\n",
              " ('seus', tensor(3.6537))]"
            ]
          },
          "metadata": {
            "tags": []
          },
          "execution_count": 35
        }
      ]
    },
    {
      "cell_type": "markdown",
      "metadata": {
        "id": "4BxDcVr5lHGU"
      },
      "source": [
        "A distância da palavra \"solar\" para si mesma é 0 e a palavra com maior similaridade é \"energia\" o que faz todo sentido se você leu o texto do Asimov usado para treinar o modelo.\n"
      ]
    },
    {
      "cell_type": "code",
      "metadata": {
        "id": "LNnVRMMskche"
      },
      "source": [
        "# Função para busca de palavra por analogia\n",
        "def busca_analogia(p1, p2, p3, n = 5, filtro = True):\n",
        "   \n",
        "    # Print\n",
        "    print('\\n[%s : %s :: %s : ?]' % (p1, p2, p3))\n",
        "   \n",
        "    # p2 - p1 + p3 = p4\n",
        "    closest_words = busca_palavra_similaridade(get_palavra(p2, model, palavra_indice) -\n",
        "                                               get_palavra(p1, model, palavra_indice) +\n",
        "                                               get_palavra(p3, model, palavra_indice),\n",
        "                                               palavra_indice)\n",
        "   \n",
        "    # Vamos excluir as 3 palavras passadas como parâmetro\n",
        "    if filtro:\n",
        "        closest_words = [t for t in closest_words if t[0] not in [p1, p2, p3]]\n",
        "       \n",
        "    for tuple in closest_words[:n]:\n",
        "        print('(%.4f) %s' % (tuple[1], tuple[0]))"
      ],
      "execution_count": 36,
      "outputs": []
    },
    {
      "cell_type": "code",
      "metadata": {
        "colab": {
          "base_uri": "https://localhost:8080/"
        },
        "id": "VrRZ3hDllN98",
        "outputId": "579f4907-25bb-400c-a64b-10482b96bdfa"
      },
      "source": [
        "# Busca por analogia\n",
        "busca_analogia(\"família\", \"crianças\", \"humano\")"
      ],
      "execution_count": 37,
      "outputs": [
        {
          "output_type": "stream",
          "text": [
            "\n",
            "[família : crianças :: humano : ?]\n",
            "(4.6018) encontravam\n",
            "(4.6358) teria\n",
            "(4.6845) perguntar\n",
            "(4.7729) momentânea\n",
            "(4.7739) microvac\n"
          ],
          "name": "stdout"
        }
      ]
    },
    {
      "cell_type": "markdown",
      "metadata": {
        "id": "gRU39j3klfL5"
      },
      "source": [
        "E aí estão as palavras que melhor se encaixam na quarta palavra, de acordo com nosso modelo.\n",
        "\n",
        "Quanto maior a distância, menor a similaridade! Treine o modelo com seus próprios textos e experimente a busca por similaridade."
      ]
    }
  ]
}