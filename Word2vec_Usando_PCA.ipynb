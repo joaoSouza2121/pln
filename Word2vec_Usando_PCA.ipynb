{
  "nbformat": 4,
  "nbformat_minor": 0,
  "metadata": {
    "colab": {
      "name": "Word2vec - Usando PCA.ipynb",
      "provenance": [],
      "authorship_tag": "ABX9TyOCu4tVLRZBmnCHUqIjSnyC",
      "include_colab_link": true
    },
    "kernelspec": {
      "name": "python3",
      "display_name": "Python 3"
    },
    "language_info": {
      "name": "python"
    },
    "accelerator": "GPU"
  },
  "cells": [
    {
      "cell_type": "markdown",
      "metadata": {
        "id": "view-in-github",
        "colab_type": "text"
      },
      "source": [
        "<a href=\"https://colab.research.google.com/github/joaoSouza2121/pln/blob/main/Word2vec_Usando_PCA.ipynb\" target=\"_parent\"><img src=\"https://colab.research.google.com/assets/colab-badge.svg\" alt=\"Open In Colab\"/></a>"
      ]
    },
    {
      "cell_type": "markdown",
      "metadata": {
        "id": "dgnHnceuz_C9"
      },
      "source": [
        "##Machine Learning"
      ]
    },
    {
      "cell_type": "markdown",
      "metadata": {
        "id": "k9Hts-tc0BDU"
      },
      "source": [
        "##Previsão de Palavras com Base no Contexto e Visualização com PCA"
      ]
    },
    {
      "cell_type": "code",
      "metadata": {
        "id": "w-acMmGr0nWS"
      },
      "source": [
        "!pip install -q scikit-plot"
      ],
      "execution_count": 1,
      "outputs": []
    },
    {
      "cell_type": "code",
      "metadata": {
        "id": "fiXml7lSz3r6"
      },
      "source": [
        "# Imports\n",
        "import torch\n",
        "import scipy\n",
        "import sklearn\n",
        "import scikitplot\n",
        "import numpy as np\n",
        "import torch.nn.functional as F\n",
        "from torch.optim import SGD\n",
        "from torch.autograd import Variable, profiler\n",
        "from sklearn.decomposition import PCA\n",
        "from scipy.spatial.distance import cosine\n",
        "from scikitplot.decomposition import plot_pca_2d_projection\n",
        "%matplotlib inline\n"
      ],
      "execution_count": 2,
      "outputs": []
    },
    {
      "cell_type": "markdown",
      "metadata": {
        "id": "OeglZ_Pk0v2O"
      },
      "source": [
        "# Preparação dos Dados"
      ]
    },
    {
      "cell_type": "code",
      "metadata": {
        "id": "e_aIDAml0UaE"
      },
      "source": [
        "# Corpus\n",
        "corpus = ['ele é um rei',\n",
        "          'ela é uma rainha',\n",
        "          'ele é um homem',\n",
        "          'ela é uma mulher',\n",
        "          'Madrid é a capital da Espanha',\n",
        "          'Berlim é a capital da Alemanha',\n",
        "          'Lisboa é a capital de Portugal']\n"
      ],
      "execution_count": 3,
      "outputs": []
    },
    {
      "cell_type": "code",
      "metadata": {
        "id": "g3r7KtKw00rw"
      },
      "source": [
        "# Construindo o vocabulário com tokenização\n",
        "palavras = []\n",
        "for sentence in corpus:\n",
        "    for palavra in sentence.split():\n",
        "         if palavra not in palavras:\n",
        "            palavras.append(palavra)\n"
      ],
      "execution_count": 4,
      "outputs": []
    },
    {
      "cell_type": "code",
      "metadata": {
        "colab": {
          "base_uri": "https://localhost:8080/"
        },
        "id": "CqxvEvqz00lv",
        "outputId": "0799866b-21f6-4387-ede0-cb3811fb8d01"
      },
      "source": [
        "# Visualiza os dados\n",
        "palavras"
      ],
      "execution_count": 5,
      "outputs": [
        {
          "output_type": "execute_result",
          "data": {
            "text/plain": [
              "['ele',\n",
              " 'é',\n",
              " 'um',\n",
              " 'rei',\n",
              " 'ela',\n",
              " 'uma',\n",
              " 'rainha',\n",
              " 'homem',\n",
              " 'mulher',\n",
              " 'Madrid',\n",
              " 'a',\n",
              " 'capital',\n",
              " 'da',\n",
              " 'Espanha',\n",
              " 'Berlim',\n",
              " 'Alemanha',\n",
              " 'Lisboa',\n",
              " 'de',\n",
              " 'Portugal']"
            ]
          },
          "metadata": {
            "tags": []
          },
          "execution_count": 5
        }
      ]
    },
    {
      "cell_type": "code",
      "metadata": {
        "colab": {
          "base_uri": "https://localhost:8080/"
        },
        "id": "TzLcFsMF07ge",
        "outputId": "e4f87af3-d279-4772-d7bc-e8179ff19bb6"
      },
      "source": [
        "# Criamos o mapeamento palavra - índice  \n",
        "word2idx = {w:idx for (idx, w) in enumerate(palavras)}\n",
        "word2idx\n"
      ],
      "execution_count": 6,
      "outputs": [
        {
          "output_type": "execute_result",
          "data": {
            "text/plain": [
              "{'Alemanha': 15,\n",
              " 'Berlim': 14,\n",
              " 'Espanha': 13,\n",
              " 'Lisboa': 16,\n",
              " 'Madrid': 9,\n",
              " 'Portugal': 18,\n",
              " 'a': 10,\n",
              " 'capital': 11,\n",
              " 'da': 12,\n",
              " 'de': 17,\n",
              " 'ela': 4,\n",
              " 'ele': 0,\n",
              " 'homem': 7,\n",
              " 'mulher': 8,\n",
              " 'rainha': 6,\n",
              " 'rei': 3,\n",
              " 'um': 2,\n",
              " 'uma': 5,\n",
              " 'é': 1}"
            ]
          },
          "metadata": {
            "tags": []
          },
          "execution_count": 6
        }
      ]
    },
    {
      "cell_type": "code",
      "metadata": {
        "colab": {
          "base_uri": "https://localhost:8080/"
        },
        "id": "e-9cXdBZ1b_Z",
        "outputId": "91562e3d-3012-4e65-a49c-dba7a045e457"
      },
      "source": [
        "# Criamos o mapeamento inverso índice - palavra\n",
        "idx2word = {idx:w for (idx, w) in enumerate(palavras)}\n",
        "idx2word\n"
      ],
      "execution_count": 7,
      "outputs": [
        {
          "output_type": "execute_result",
          "data": {
            "text/plain": [
              "{0: 'ele',\n",
              " 1: 'é',\n",
              " 2: 'um',\n",
              " 3: 'rei',\n",
              " 4: 'ela',\n",
              " 5: 'uma',\n",
              " 6: 'rainha',\n",
              " 7: 'homem',\n",
              " 8: 'mulher',\n",
              " 9: 'Madrid',\n",
              " 10: 'a',\n",
              " 11: 'capital',\n",
              " 12: 'da',\n",
              " 13: 'Espanha',\n",
              " 14: 'Berlim',\n",
              " 15: 'Alemanha',\n",
              " 16: 'Lisboa',\n",
              " 17: 'de',\n",
              " 18: 'Portugal'}"
            ]
          },
          "metadata": {
            "tags": []
          },
          "execution_count": 7
        }
      ]
    },
    {
      "cell_type": "code",
      "metadata": {
        "colab": {
          "base_uri": "https://localhost:8080/"
        },
        "id": "ydMFpj2C1hUA",
        "outputId": "e7e8e5d6-3611-4221-c29e-899bd8f21e0f"
      },
      "source": [
        "# Tamanho do vocabulário\n",
        "tamanho_vocab = len(word2idx)\n",
        "tamanho_vocab\n"
      ],
      "execution_count": 8,
      "outputs": [
        {
          "output_type": "execute_result",
          "data": {
            "text/plain": [
              "19"
            ]
          },
          "metadata": {
            "tags": []
          },
          "execution_count": 8
        }
      ]
    },
    {
      "cell_type": "markdown",
      "metadata": {
        "id": "OG_ySCwR1ru4"
      },
      "source": [
        "##Construção do Modelo"
      ]
    },
    {
      "cell_type": "code",
      "metadata": {
        "id": "AJ0IWsiR1pf0"
      },
      "source": [
        "# Função para gerar os embeddings\n",
        "def get_word_embedding(word):\n",
        "    word_vec_one_hot = np.zeros(tamanho_vocab)\n",
        "    word_vec_one_hot[word2idx[word]] = 1\n",
        "    return word_vec_one_hot\n"
      ],
      "execution_count": 9,
      "outputs": []
    },
    {
      "cell_type": "code",
      "metadata": {
        "id": "PCV8G7FH18iT"
      },
      "source": [
        "# Função para gerar os vetores, da palavra central e do contexto\n",
        "def gera_vetores():\n",
        "    for sentence in corpus:\n",
        "        words = sentence.split()\n",
        "        indices = [word2idx[w] for w in words]\n",
        "       \n",
        "        # Loop pelo range de índices\n",
        "        # Aqui geramos o vetor da palavra central em i\n",
        "        # E geramos o vetor de contexto\n",
        "        for i in range(len(indices)):\n",
        "            for w in range(-window_size, window_size + 1):\n",
        "                context_idx = i + w\n",
        "                if context_idx < 0 or context_idx >= len(indices) or i == context_idx:\n",
        "                    continue\n",
        "                   \n",
        "                # Gera os vetores    \n",
        "                center_vec_one_hot = np.zeros(tamanho_vocab)\n",
        "                center_vec_one_hot[indices[i]] = 1\n",
        "                context_idx = indices[context_idx]\n",
        "                               \n",
        "                yield center_vec_one_hot, context_idx\n"
      ],
      "execution_count": 10,
      "outputs": []
    },
    {
      "cell_type": "code",
      "metadata": {
        "id": "2g3KV5ZH2CCJ"
      },
      "source": [
        "# Hiperparâmetros\n",
        "embedding_dims = 10\n",
        "window_size = 2\n"
      ],
      "execution_count": 11,
      "outputs": []
    },
    {
      "cell_type": "markdown",
      "metadata": {
        "id": "OQowrr3J2KuR"
      },
      "source": [
        "Definição dos pesos da rede neural.\n",
        "\n",
        "  . W1 é uma matriz de pesos de dimensões embedding_dims x tamanho_vocab\n",
        "\n",
        "  . W2 é uma matriz de pesos de dimensões tamanho_vocab x embedding_dims\n",
        "  \n",
        "Os pesos (ou coeficientes ou parâmetros) é aquilo que a rede aprende durante o treinamento. Como no início não sabemos qual o valor ideal de pesos (isso é o que queremos descobrir) iniciamos com valores randômicos usando torch.randn().\n",
        "\n",
        "Ao final do aprendizado, o modelo em si nada mais é do que os valores ideais de W1 e W2."
      ]
    },
    {
      "cell_type": "code",
      "metadata": {
        "id": "O-Dpl9vf2Ghd"
      },
      "source": [
        "# Definição dos pesos da rede neural\n",
        "W1 = Variable(torch.randn(embedding_dims, tamanho_vocab).float(), requires_grad = True)\n",
        "W2 = Variable(torch.randn(tamanho_vocab, embedding_dims).float(), requires_grad = True)\n"
      ],
      "execution_count": 12,
      "outputs": []
    },
    {
      "cell_type": "code",
      "metadata": {
        "colab": {
          "base_uri": "https://localhost:8080/"
        },
        "id": "nY4m2iR329uV",
        "outputId": "5df121c8-21c6-4ac5-e4b9-7efe6eeed712"
      },
      "source": [
        "# Treinamento\n",
        "print(\"\\nIniciando o Treinamento...\\n\")\n",
        "for epoch in range(1001):\n",
        "   \n",
        "    # Inicializa o erro médio da rede\n",
        "    avg_loss = 0\n",
        "   \n",
        "    # Inicializa o controle do número de amostras\n",
        "    samples = 0\n",
        "   \n",
        "    # Loop pelos dados (vetores de entrada)\n",
        "    for data, target in gera_vetores():\n",
        "       \n",
        "        # Coleta x (vetor da palavra central)\n",
        "        x = Variable(torch.from_numpy(data)).float()\n",
        "       \n",
        "        # Coleta y (vetor do contexto)\n",
        "        y_true = Variable(torch.from_numpy(np.array([target])).long())\n",
        "       \n",
        "        # Atualiza o número de amostras\n",
        "        samples += len(y_true)\n",
        "       \n",
        "        # Resultado da multiplicação entre os pesos e as primeiras camadas da rede\n",
        "        a1 = torch.matmul(W1, x)\n",
        "        a2 = torch.matmul(W2, a1)\n",
        "\n",
        "        # A função softmax entrega a probabilidade da previsão da rede\n",
        "        log_softmax = F.log_softmax(a2, dim = 0)\n",
        "\n",
        "        # Previsão da rede\n",
        "        network_pred_dist = F.softmax(log_softmax, dim = 0)\n",
        "       \n",
        "        # Calcula o erro, comparando a previsão da rede com o valor real\n",
        "        # (como fazemos em qualquer modelo de aprendizagem supervisionada)\n",
        "        loss = F.nll_loss(log_softmax.view(1,-1), y_true)\n",
        "       \n",
        "        # Erro médio\n",
        "        avg_loss += loss.item()\n",
        "       \n",
        "        # Inicia o backpropagation\n",
        "        loss.backward()\n",
        "\n",
        "        # Atualiza o valor dos pesos para a próxima passada\n",
        "        W1.data -= 0.002 * W1.grad.data\n",
        "        W2.data -= 0.002 * W2.grad.data\n",
        "\n",
        "        # Zera o valor do gradiente depois de atualizar os pesos\n",
        "        W1.grad.data.zero_()\n",
        "        W2.grad.data.zero_()\n",
        "       \n",
        "    # Imprime o erro da rede\n",
        "    if epoch % 10 == 0:\n",
        "        print('Erro de Treinamento:', avg_loss / samples)\n",
        "\n",
        "print(\"\\nTreinamento Concluído.\")\n"
      ],
      "execution_count": 13,
      "outputs": [
        {
          "output_type": "stream",
          "text": [
            "\n",
            "Iniciando o Treinamento...\n",
            "\n",
            "Erro de Treinamento: 5.996837861835957\n",
            "Erro de Treinamento: 4.48923234483029\n",
            "Erro de Treinamento: 3.778689410141174\n",
            "Erro de Treinamento: 3.3184350925557156\n",
            "Erro de Treinamento: 3.011041499832843\n",
            "Erro de Treinamento: 2.796691612360325\n",
            "Erro de Treinamento: 2.6347967785723667\n",
            "Erro de Treinamento: 2.505250145780279\n",
            "Erro de Treinamento: 2.3984070623174625\n",
            "Erro de Treinamento: 2.3085024667547103\n",
            "Erro de Treinamento: 2.231535612268651\n",
            "Erro de Treinamento: 2.1646511231331114\n",
            "Erro de Treinamento: 2.1058312876427427\n",
            "Erro de Treinamento: 2.053663281684226\n",
            "Erro de Treinamento: 2.0071519036242305\n",
            "Erro de Treinamento: 1.965574692538444\n",
            "Erro de Treinamento: 1.9283727597683034\n",
            "Erro de Treinamento: 1.8950744550278846\n",
            "Erro de Treinamento: 1.8652504067471687\n",
            "Erro de Treinamento: 1.8384980686167454\n",
            "Erro de Treinamento: 1.8144439674438315\n",
            "Erro de Treinamento: 1.7927543229245124\n",
            "Erro de Treinamento: 1.7731419522711571\n",
            "Erro de Treinamento: 1.755365914486824\n",
            "Erro de Treinamento: 1.7392230737716594\n",
            "Erro de Treinamento: 1.7245392393558583\n",
            "Erro de Treinamento: 1.7111626064523737\n",
            "Erro de Treinamento: 1.69895882238733\n",
            "Erro de Treinamento: 1.6878094286360639\n",
            "Erro de Treinamento: 1.6776095977488985\n",
            "Erro de Treinamento: 1.668267952634933\n",
            "Erro de Treinamento: 1.6597029458969197\n",
            "Erro de Treinamento: 1.6518429289472865\n",
            "Erro de Treinamento: 1.6446238084042326\n",
            "Erro de Treinamento: 1.637988010619549\n",
            "Erro de Treinamento: 1.6318836877954768\n",
            "Erro de Treinamento: 1.6262630611024005\n",
            "Erro de Treinamento: 1.6210831860278516\n",
            "Erro de Treinamento: 1.6163045180604814\n",
            "Erro de Treinamento: 1.61189111876995\n",
            "Erro de Treinamento: 1.607810062930939\n",
            "Erro de Treinamento: 1.6040314061844603\n",
            "Erro de Treinamento: 1.6005282909312146\n",
            "Erro de Treinamento: 1.5972758480843077\n",
            "Erro de Treinamento: 1.59425192627501\n",
            "Erro de Treinamento: 1.5914365490700335\n",
            "Erro de Treinamento: 1.5888116137778505\n",
            "Erro de Treinamento: 1.586360790628068\n",
            "Erro de Treinamento: 1.5840693420552192\n",
            "Erro de Treinamento: 1.5819242304943977\n",
            "Erro de Treinamento: 1.5799133517640702\n",
            "Erro de Treinamento: 1.578025835625669\n",
            "Erro de Treinamento: 1.5762520331017515\n",
            "Erro de Treinamento: 1.574583037102476\n",
            "Erro de Treinamento: 1.5730107775393953\n",
            "Erro de Treinamento: 1.571528079661917\n",
            "Erro de Treinamento: 1.5701281479064455\n",
            "Erro de Treinamento: 1.5688052031588047\n",
            "Erro de Treinamento: 1.5675533153909318\n",
            "Erro de Treinamento: 1.5663677035494055\n",
            "Erro de Treinamento: 1.5652436861332426\n",
            "Erro de Treinamento: 1.5641770768672862\n",
            "Erro de Treinamento: 1.5631640540792586\n",
            "Erro de Treinamento: 1.562200960960794\n",
            "Erro de Treinamento: 1.5612845883724538\n",
            "Erro de Treinamento: 1.5604119199387572\n",
            "Erro de Treinamento: 1.5595801935551015\n",
            "Erro de Treinamento: 1.5587868779263598\n",
            "Erro de Treinamento: 1.558029611694052\n",
            "Erro de Treinamento: 1.557306094372526\n",
            "Erro de Treinamento: 1.5566143697880683\n",
            "Erro de Treinamento: 1.5559525515170807\n",
            "Erro de Treinamento: 1.5553189712636015\n",
            "Erro de Treinamento: 1.5547119410748178\n",
            "Erro de Treinamento: 1.5541299835164497\n",
            "Erro de Treinamento: 1.5535716287633206\n",
            "Erro de Treinamento: 1.5530357322794326\n",
            "Erro de Treinamento: 1.5525210246126702\n",
            "Erro de Treinamento: 1.5520263168405979\n",
            "Erro de Treinamento: 1.5515506451434278\n",
            "Erro de Treinamento: 1.5510929994126583\n",
            "Erro de Treinamento: 1.550652357492041\n",
            "Erro de Treinamento: 1.5502280307577012\n",
            "Erro de Treinamento: 1.549819071876242\n",
            "Erro de Treinamento: 1.5494248575352607\n",
            "Erro de Treinamento: 1.5490446395062385\n",
            "Erro de Treinamento: 1.5486777462857835\n",
            "Erro de Treinamento: 1.5483233142406383\n",
            "Erro de Treinamento: 1.5479810206179923\n",
            "Erro de Treinamento: 1.5476501520643844\n",
            "Erro de Treinamento: 1.5473303350996463\n",
            "Erro de Treinamento: 1.5470210332819756\n",
            "Erro de Treinamento: 1.5467217868946967\n",
            "Erro de Treinamento: 1.5464320360346044\n",
            "Erro de Treinamento: 1.546151416098818\n",
            "Erro de Treinamento: 1.5458796094072627\n",
            "Erro de Treinamento: 1.5456162221888279\n",
            "Erro de Treinamento: 1.5453607871177348\n",
            "Erro de Treinamento: 1.5451131653278432\n",
            "Erro de Treinamento: 1.5448729231002483\n",
            "Erro de Treinamento: 1.5446398258209229\n",
            "\n",
            "Treinamento Concluído.\n"
          ],
          "name": "stdout"
        }
      ]
    },
    {
      "cell_type": "markdown",
      "metadata": {
        "id": "YONxiV4H3yj8"
      },
      "source": [
        "# Teste do Modelo e Redução de Dimensionalidade com PCA\n",
        "Para testar o modelo, tudo que precisamos é dos pesos, em nosso exemplo W1 e W2. Mas visualizar os dados é desafiador, pois a dimensionalidade é alta e quanto maior o número de palavras do vocabulário, mais complicado.\n",
        "\n",
        "Uma alternativa, é reduzir a diemensionalidade dos dados. Convertemos todos os atributos em 2 componentes principais usando PCA (Principal Component Analysis) e com 2 componentes podemos visualizar os dados.\n",
        "\n",
        "Cada componentes principal nada mais é do que a junção matemática da informação em outras variáveis. O PCA é um algoritmo de Machine Learning por si mesmo, da categoria de aprendizagem não supervisionada.\n",
        "\n",
        "Vamos aplicar o PCA para visualizar os dados."
      ]
    },
    {
      "cell_type": "code",
      "metadata": {
        "id": "6vvqSBOH3Mgk"
      },
      "source": [
        "#Cria o objeto para redução de dimensionalidade\n",
        "pca = PCA(n_components = 2)\n"
      ],
      "execution_count": 15,
      "outputs": []
    },
    {
      "cell_type": "code",
      "metadata": {
        "colab": {
          "base_uri": "https://localhost:8080/"
        },
        "id": "5TS35_L14EvZ",
        "outputId": "ebcd29cf-cfc8-44de-8d7c-fe87e6fe2348"
      },
      "source": [
        "# Treina o modelo PCA\n",
        "pca.fit(W1.data.numpy().T)\n"
      ],
      "execution_count": 16,
      "outputs": [
        {
          "output_type": "execute_result",
          "data": {
            "text/plain": [
              "PCA(copy=True, iterated_power='auto', n_components=2, random_state=None,\n",
              "    svd_solver='auto', tol=0.0, whiten=False)"
            ]
          },
          "metadata": {
            "tags": []
          },
          "execution_count": 16
        }
      ]
    },
    {
      "cell_type": "code",
      "metadata": {
        "id": "tC0YMCl-4F4D"
      },
      "source": [
        "# Calcula a projeção PCA para o Plot\n",
        "proj = pca.transform(W1.data.numpy().T)\n"
      ],
      "execution_count": 17,
      "outputs": []
    },
    {
      "cell_type": "code",
      "metadata": {
        "colab": {
          "base_uri": "https://localhost:8080/",
          "height": 628
        },
        "id": "0D5BnCi34J9i",
        "outputId": "3a19383c-454e-444b-e55a-40f11de10c2b"
      },
      "source": [
        "# Plot\n",
        "ax = plot_pca_2d_projection(pca,\n",
        "                            W1.data.numpy().T,\n",
        "                            np.array(palavras),\n",
        "                            feature_labels = palavras,\n",
        "                            figsize = (16,10),\n",
        "                            text_fontsize = 12)\n",
        "\n",
        "# Legenda\n",
        "for i, txt in enumerate(palavras):\n",
        "    ax.annotate(txt, (proj[i,0], proj[i,1]), size = 15)\n"
      ],
      "execution_count": 18,
      "outputs": [
        {
          "output_type": "display_data",
          "data": {
            "image/png": "[encoded data removed]",
            "text/plain": [
              "<Figure size 1152x720 with 1 Axes>"
            ]
          },
          "metadata": {
            "tags": [],
            "needs_background": "light"
          }
        }
      ]
    },
    {
      "cell_type": "markdown",
      "metadata": {
        "id": "uKifLScp463I"
      },
      "source": [
        "Observe a legenda no gráfico acima! Palavras similares com base no contexto, estão com a \"bolinha\" com cores parecidas. No topo da lista temos países e cidades, depois pronomes e a palavra \"capital\", temos então homem, mulher, rainha e rei e por fim artigos e um verbo.\n",
        "\n",
        "Tudo isso foi aprendido pela rede com base no contexto, que nada mais é do que a distância de cosseno entre as embeddings, os vetores que representam as palavras.\n",
        "\n",
        "A visualização acima mostra que palavras que estão na mesma direção possui alguma similaridade, por exemplo \"Alemanha\" e \"Berlim\". Passe uma linha reta imaginária que \"corta\" as palavras \"Alemanha\" e \"Berlim\". Consegue? Se a resposta for sim, as palavras são similares. Abaixo terá outro exemplo.\n",
        "\n",
        "Vamos extrair as distâncias com base na pergunta:\n",
        "\n",
        "# Espanha está para Madrid, assim como Alemanha está para ?\n",
        "\n",
        "Vamos perguntar ao modelo."
      ]
    },
    {
      "cell_type": "code",
      "metadata": {
        "id": "-6vaUmrq4aOL"
      },
      "source": [
        "# Função para obter um vetor de palavras no peso W1 (esse é o contexto)\n",
        "def get_word_vector_v(word):\n",
        "    return W1[:, word2idx[word]].data.numpy()\n"
      ],
      "execution_count": 19,
      "outputs": []
    },
    {
      "cell_type": "code",
      "metadata": {
        "id": "22lzD5Jb5gis"
      },
      "source": [
        "# Função para obter um vetor de palavras no peso W2 (essa é a palavra central)\n",
        "def get_word_vector_u(word):\n",
        "    return W2[word2idx[word],:].data.numpy()\n"
      ],
      "execution_count": 20,
      "outputs": []
    },
    {
      "cell_type": "code",
      "metadata": {
        "id": "dcx4f_P_5pd4"
      },
      "source": [
        "# Vamos obter os vetores das palavras\n",
        "espanha = 1 * get_word_vector_v('Espanha') + 1 * get_word_vector_u('Espanha')\n",
        "alemanha = 1 * get_word_vector_v('Alemanha') + 1 * get_word_vector_u('Alemanha')\n",
        "madrid = 1 * get_word_vector_v('Madrid') + 1 * get_word_vector_u('Madrid')"
      ],
      "execution_count": 21,
      "outputs": []
    },
    {
      "cell_type": "code",
      "metadata": {
        "id": "PfkTDU3h5wZk"
      },
      "source": [
        "# Resultado\n",
        "resultado = madrid - espanha + alemanha \n"
      ],
      "execution_count": 22,
      "outputs": []
    },
    {
      "cell_type": "code",
      "metadata": {
        "colab": {
          "base_uri": "https://localhost:8080/"
        },
        "id": "VFfhvYCY50-g",
        "outputId": "8eb7b083-4763-40ff-a7b3-4b3a31f5eaf9"
      },
      "source": [
        "# Este é o resultado, ou seja, uma embedding que representa a palavra mais similar à palavra \"Alemanha\",\n",
        "# com base na similaridade (contexto) entre \"Polônia\" e \"Varsóvia\".\n",
        "resultado"
      ],
      "execution_count": 23,
      "outputs": [
        {
          "output_type": "execute_result",
          "data": {
            "text/plain": [
              "array([ 1.0242867 ,  0.8463201 ,  0.32117316, -2.0093186 ,  2.159833  ,\n",
              "       -0.8749094 , -3.925835  , -0.63879085,  2.2738745 , -0.8572308 ],\n",
              "      dtype=float32)"
            ]
          },
          "metadata": {
            "tags": []
          },
          "execution_count": 23
        }
      ]
    },
    {
      "cell_type": "code",
      "metadata": {
        "id": "Y7iC7NVG6D0H"
      },
      "source": [
        "# Vamos extrair as distâncias de todas as outras palavras para a nossa palavra \"secreta\" que está\n",
        "# no vetor embedding chamado \"resultado\"\n",
        "# Usamos a função cosine() do SciPy para calcular as distâncias\n",
        "distancias = [(v, cosine(resultado, 1 * get_word_vector_u(v) + 1 * get_word_vector_v(v))) for v in palavras]\n"
      ],
      "execution_count": 24,
      "outputs": []
    },
    {
      "cell_type": "code",
      "metadata": {
        "colab": {
          "base_uri": "https://localhost:8080/"
        },
        "id": "PlwB7Ny46MUI",
        "outputId": "8b662bb1-7ce5-426d-c6ae-17a6a859b5f8"
      },
      "source": [
        "# Visualiza as distâncias\n",
        "distancias\n"
      ],
      "execution_count": 25,
      "outputs": [
        {
          "output_type": "execute_result",
          "data": {
            "text/plain": [
              "[('ele', 0.8449123501777649),\n",
              " ('é', 0.7771047949790955),\n",
              " ('um', 0.5612937211990356),\n",
              " ('rei', 0.9207548573613167),\n",
              " ('ela', 0.9775043353438377),\n",
              " ('uma', 1.3803388476371765),\n",
              " ('rainha', 1.4111650586128235),\n",
              " ('homem', 0.47304874658584595),\n",
              " ('mulher', 0.8113236427307129),\n",
              " ('Madrid', 0.4096205234527588),\n",
              " ('a', 0.7950792163610458),\n",
              " ('capital', 1.3378739953041077),\n",
              " ('da', 1.3228763341903687),\n",
              " ('Espanha', 1.695951223373413),\n",
              " ('Berlim', 1.0975817814469337),\n",
              " ('Alemanha', 0.8995092213153839),\n",
              " ('Lisboa', 0.8359736204147339),\n",
              " ('de', 1.1848965287208557),\n",
              " ('Portugal', 0.9544690884649754)]"
            ]
          },
          "metadata": {
            "tags": []
          },
          "execution_count": 25
        }
      ]
    },
    {
      "cell_type": "markdown",
      "metadata": {
        "id": "eL7X6Qlz6TmP"
      },
      "source": [
        "Acima temos uma lista de distancias de cada palavra para nosso \"resultado\". Ordenando as distancias."
      ]
    },
    {
      "cell_type": "code",
      "metadata": {
        "id": "0qM_E65g6NjK"
      },
      "source": [
        "# Ordenando a lista de tuplas pelo segundo elemento da tupla\n",
        "distancias.sort(key = lambda tup: tup[1])  \n"
      ],
      "execution_count": 26,
      "outputs": []
    },
    {
      "cell_type": "code",
      "metadata": {
        "colab": {
          "base_uri": "https://localhost:8080/"
        },
        "id": "vidTDmqn65zL",
        "outputId": "84f56b10-c4cd-4038-b97a-f54dc5b6908b"
      },
      "source": [
        "# Agora sim\n",
        "distancias\n"
      ],
      "execution_count": 27,
      "outputs": [
        {
          "output_type": "execute_result",
          "data": {
            "text/plain": [
              "[('Madrid', 0.4096205234527588),\n",
              " ('homem', 0.47304874658584595),\n",
              " ('um', 0.5612937211990356),\n",
              " ('é', 0.7771047949790955),\n",
              " ('a', 0.7950792163610458),\n",
              " ('mulher', 0.8113236427307129),\n",
              " ('Lisboa', 0.8359736204147339),\n",
              " ('ele', 0.8449123501777649),\n",
              " ('Alemanha', 0.8995092213153839),\n",
              " ('rei', 0.9207548573613167),\n",
              " ('Portugal', 0.9544690884649754),\n",
              " ('ela', 0.9775043353438377),\n",
              " ('Berlim', 1.0975817814469337),\n",
              " ('de', 1.1848965287208557),\n",
              " ('da', 1.3228763341903687),\n",
              " ('capital', 1.3378739953041077),\n",
              " ('uma', 1.3803388476371765),\n",
              " ('rainha', 1.4111650586128235),\n",
              " ('Espanha', 1.695951223373413)]"
            ]
          },
          "metadata": {
            "tags": []
          },
          "execution_count": 27
        }
      ]
    },
    {
      "cell_type": "markdown",
      "metadata": {
        "id": "mRSJ79wl7BmE"
      },
      "source": [
        "O vetor \"resultado\" foi uma previsão do nosso modelo e as palavras \"Madrid\" e \"Berlim\" são as mais similares. Observe que \"Berlim\" é a palavra mais similar com base no conexto, uma vez que Madrid já foi usada em nossa fórmula.\n",
        "\n",
        "Imagine que um vetor (uma flecha) sai da origem do sistema de coordenadas (Honestidade = 0 e Experiência = 0, chamaremos de ponto O) e termina no ponto X. Este vetor é usado para localizar o ponto no nosso espaço de características. Não é diferente de simplesmente dizer que X possui H = 0.4 e E = 0.2, é apenas outra maneira de ver isso.\n",
        "\n",
        "Se soubermos qual é o ângulo entre os vetores X e A, podemos usar uma calculadora simples e calcular a similaridade. Podemos ver pela imagem acima que os vetores de X e A estão sobre a mesma linha reta (observe as cores dos círculos na legenda), logo o ângulo entre eles é zero graus e sua similaridade é cos(0) = 1. Já para a similaridade entre X e B não sabemos o ângulo e precisamos usar uma equação. O numerador (a parte de cima da divisão) significa multiplicar os valores de Honestidade de X e B e somar com a multiplicação dos valores de Experiência de X e B.\n",
        "\n",
        "Isso é o que faz o Word2vec. Brihante, não?\n",
        "\n"
      ]
    },
    {
      "cell_type": "markdown",
      "metadata": {
        "id": "5wFJiuJ-7d1O"
      },
      "source": [
        "# Em que contexto aparece a palavra Lisboa?\n",
        "\n",
        "Aqui é como se estivéssemos usando o modelo para previsão."
      ]
    },
    {
      "cell_type": "code",
      "metadata": {
        "colab": {
          "base_uri": "https://localhost:8080/"
        },
        "id": "lxXuuQ9X69Ew",
        "outputId": "f183da5f-8437-4208-de5d-eca0fe45c67a"
      },
      "source": [
        "# Extrai o contexto\n",
        "context_to_predict = get_word_vector_v('Lisboa')\n",
        "\n",
        "# Variável com o contexto a prever\n",
        "hidden = Variable(torch.from_numpy(context_to_predict)).float()\n",
        "\n",
        "# Executa o modelo e extrai as probabilidades\n",
        "# (executar o modelo nada mais é do que multiplicar os novos dados de entrada pelos pesos aprendidos no treinamento)\n",
        "a = torch.matmul(W2, hidden)\n",
        "probs = F.softmax(a, dim = 0).data.numpy()\n",
        "\n",
        "# Imprime o resultado\n",
        "for context, prob in zip(palavras, probs):\n",
        "    print(f'{context}: {prob}')\n"
      ],
      "execution_count": 29,
      "outputs": [
        {
          "output_type": "stream",
          "text": [
            "ele: 0.00580122834071517\n",
            "é: 0.4845471978187561\n",
            "um: 0.0003571051638573408\n",
            "rei: 0.0015697965864092112\n",
            "ela: 0.0008213892579078674\n",
            "uma: 0.0015300329541787505\n",
            "rainha: 0.0027195618022233248\n",
            "homem: 5.563299419009127e-05\n",
            "mulher: 0.002593724988400936\n",
            "Madrid: 0.005118111148476601\n",
            "a: 0.48675990104675293\n",
            "capital: 0.006895133294165134\n",
            "da: 9.026716725202277e-05\n",
            "Espanha: 0.0002937720564659685\n",
            "Berlim: 7.930982974357903e-05\n",
            "Alemanha: 4.7612658818252385e-05\n",
            "Lisboa: 4.6372770157177e-05\n",
            "de: 0.0006657314952462912\n",
            "Portugal: 8.16377087176079e-06\n"
          ],
          "name": "stdout"
        }
      ]
    },
    {
      "cell_type": "markdown",
      "metadata": {
        "id": "ty8ffwqh8Chi"
      },
      "source": [
        "O contexto da palavra \"Lisboa\" é representado pelas palavras \"é\", \"a\", \"Portugal\".\n",
        "\n",
        "Nosso modelo não conseguiu aprender o contexto \"capital\". Quem sabe você consegue otimizar o treinamento do modelo e aumentar sua precisão."
      ]
    },
    {
      "cell_type": "code",
      "metadata": {
        "id": "FxADzUv67fO8"
      },
      "source": [
        ""
      ],
      "execution_count": null,
      "outputs": []
    }
  ]
}